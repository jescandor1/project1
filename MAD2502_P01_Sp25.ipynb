{
 "cells": [
  {
   "cell_type": "markdown",
   "id": "5bec01d4",
   "metadata": {},
   "source": [
    "<H3 align = \"right\">Spring 2025 Computer Project 01</H3>\n",
    "\n",
    "## Group Number: `8`\n",
    " \n",
    "\n",
    "## Names of Student in Group:\n",
    "- Name: `Jasmine Escandor`\n",
    "- Name: `Tyler Choe`\n",
    "- Name: `Zachary Ducore`\n"
   ]
  },
  {
   "cell_type": "code",
   "id": "0515ac07",
   "metadata": {
    "ExecuteTime": {
     "end_time": "2025-02-22T00:52:17.299376Z",
     "start_time": "2025-02-22T00:52:17.220593Z"
    }
   },
   "source": [
    "# You shouldn't need anything beyond these imports.  If you feel you do, talk to me.\n",
    "# You will need to import these inside of the respective py files.\n",
    "import numpy as np"
   ],
   "outputs": [],
   "execution_count": 1
  },
  {
   "cell_type": "markdown",
   "id": "a857504a58899e54",
   "metadata": {},
   "source": [
    "---  \n",
    "# Part 1 (5 points)\n",
    "\n",
    "Set up a Git repository on Github for this project.  Only *one person* from the group should make the repository and then add the other group members as collaborators.  Being a collaborator gives you full commit and push access.  In a typical setting, someone else would own the repository, and you would only be able to request that the repository owner would merge your changes through a pull request.\n",
    "* Creating a repository: https://docs.github.com/en/repositories/creating-and-managing-repositories/quickstart-for-repositories\n",
    "* Adding collaborators: https://docs.github.com/en/account-and-profile/setting-up-and-managing-your-personal-account-on-github/managing-access-to-your-personal-repositories/inviting-collaborators-to-a-personal-repository\n",
    "\n",
    "By the end of this assignment your repository should contain this notebook (mostly unchaged), `riemann.py` and `barycentric.py`."
   ]
  },
  {
   "metadata": {},
   "cell_type": "markdown",
   "source": [
    "---\n",
    "# Part 2 (15 points)\n",
    "The Riemann integral of a function measures the (signed) area between a curve and the x-axis over some interval.  Given a function $f: \\mathbb{R}\\rightarrow\\mathbb{R}$, the Riemann integral over the interval $[a,b]$ is $$\\int_a^b f(x) dx.$$\n",
    "There are a variety of ways to approximate this value:\n",
    "* The *left-endpoint* method approximates with $f(a)\\cdot(b-a)$ (the rectangle with height $f(a)$ and width $(b-a)$)\n",
    "* The *trapezoidal* method approximates with the trapezoid with vertices $(a,0), (a, f(a)), (b, f(b)),$ and $(b, 0)$.\n",
    "* *Simpson's* method approximates with $\\frac{b-a}{6}\\left(f(a) + 4f(\\frac{a+b}{2}) + f(b)\\right)$\n",
    "\n",
    "These are very crude estimates $[a,b]$ is large, so typically we break the interval up into smaller sub-intervals by taking points $a = x_0 < x_1 < \\dots < x_n = b $ and summing up the approximations over each interval $[x_i, x_{i+1}]$.\n",
    "\n",
    "## Your Task\n",
    "* Create a file `riemann.py` in your repository.\n",
    "* Within this file create functions `left_endpoint`, `trapezoid`, and `simpson`.  These functions will approximate Riemann integrals.\n",
    "* Each function will have the same signature with two input arguments:\n",
    "    * `x_vals: np.ndarray`, a one-dimensional NumPy array containing the x-values used in approximating the integral.  These are the values $x_n$ as above.  In particular, the interval to integrate over is `[x_vals[0], x_vals[-1]]`\n",
    "    * `func: np.ufunc`, a NumPy universal function to approximate the integral of.\n"
   ],
   "id": "73b03439f86c4e36"
  },
  {
   "metadata": {},
   "cell_type": "markdown",
   "source": [
    "### Testing Code\n",
    "The below can be used to help test your code.  It uses the functions you write to verify that the $\\int_0^\\pi \\sin(x)dx = 2$.  You should edit this cell to approximate other integrals as this test alone is not terribly thorough."
   ],
   "id": "c007c7473cc32974"
  },
  {
   "metadata": {
    "ExecuteTime": {
     "end_time": "2025-02-22T00:52:40.504773Z",
     "start_time": "2025-02-22T00:52:40.489502Z"
    }
   },
   "cell_type": "code",
   "source": [
    "import numpy as np\n",
    "import riemann\n",
    "\n",
    "# You may change these definitions to approximate other intervals\n",
    "x_vals = np.linspace(0, np.pi, 10000)\n",
    "func = np.sin\n",
    "\n",
    "# You don't need to change anything below this line\n",
    "left_endpoint_sum = riemann.left_endpoint(x_vals, func)\n",
    "trapezoid_sum = riemann.trapezoid(x_vals, func)\n",
    "simpson_sum = riemann.simpson(x_vals, func)\n",
    "\n",
    "print(f\"Left Endpoint: {left_endpoint_sum}\")\n",
    "print(f\"    Trapezoid: {trapezoid_sum}\")\n",
    "print(f\"      Simpson: {simpson_sum}\")"
   ],
   "id": "cae551bada86ab8b",
   "outputs": [
    {
     "name": "stdout",
     "output_type": "stream",
     "text": [
      "Left Endpoint: 1.9999999835473687\n",
      "    Trapezoid: 1.999999983547369\n",
      "      Simpson: 2.0943951023931953\n"
     ]
    }
   ],
   "execution_count": 2
  },
  {
   "metadata": {},
   "cell_type": "markdown",
   "source": [
    "---\n",
    "# Part 3 (10 points)\n",
    "A common question in computer graphics is determining whether a point lies within a triangle.  Here we'll consider only case when the point and the triangle lie in the plane.  One way to answer this question is through the use of *barycentric coordinates*.  Given a triangle with vertices $A_1=(x_1, y_1), A_2=(x_2, y_2),$ and $A_3 = (x_3, y_3)$ and a point $P=(x, y)$ the barycentric coordinates of $P$ are $(\\lambda_1, \\lambda_2, \\lambda_3)$ which satisfy the following two conditions.\n",
    "\n",
    "$$\\begin{align*}\n",
    "\\lambda_1 x_1 + \\lambda_2 x_2 + \\lambda_3 x_3 &= x \\\\\n",
    "\\lambda_1 y_1 + \\lambda_2 y_2 + \\lambda_y x_3 &= y \\\\\n",
    "\\lambda_1 + \\lambda_2 + \\lambda_3 &= 1\n",
    "\\end{align*}$$\n",
    "\n",
    "The first two conditions can be interpreted as $\\lambda_1 A_1 + \\lambda_2 A_2 + \\lambda_3 A_3 = P$.  The relevant property of barycentric coordinates is that a point is inside of the the triangle if all coordinates are non-negative.\n",
    "\n",
    "## Your Task\n",
    "To answer this question, do the following:\n",
    "* Add a file `barycentric.py` to your repository.  Within this file you are to define three functions: `get_barycentric_coordinates`, `get_cartesian_coordinates`, and `is_inside_triangle`\n",
    "* The function `get_barycentric_coordinates`:\n",
    "    * Takes two input arguments:\n",
    "        1. A 2-by-3 array called `triangle_coordinates` which has the form $\\begin{pmatrix} x_1 & x_2 & x_3 \\\\ y_1 & y_2 & y_3 \\end{pmatrix}$ using the notation above.\n",
    "        2. A 1d array called `point_coordinates` which has the form $(x, y)$ using the notation above.\n",
    "    * Returns a 1d array which has the form $(\\lambda_1 \\lambda_2 \\lambda_3)$\n",
    "* The function `get_cartesian_coordinates`:\n",
    "    * Takes two input arguments:\n",
    "        1. A 2-by-3 array called `triangle_coordinates` which has the form $\\begin{pmatrix} x_1 & x_2 & x_3 \\\\ y_1 & y_2 & y_3 \\end{pmatrix}$ using the notation above.\n",
    "        2. A 1d array called `barycentric_coordinates` which has the form $(\\lambda_1, \\lambda_2, \\lambda_3)$ using the notation above.\n",
    "    * Returns a 1d array which has the form $(x, y)$\n",
    "* The function `is_inside_triangle` takes the same input arguments as `get_barycentric_coordinates` but it returns a `bool` as to whether the point lies inside of the triangle or not."
   ],
   "id": "fdb92121a222a608"
  },
  {
   "metadata": {},
   "cell_type": "markdown",
   "source": [
    "### Some Testing Code\n",
    "To be kind (and to give you a very basic idea of plotting in Python) I'm giving you some code to let you visually determine whether your `is_inside_triangle` function works.  So you need to have implemented this function prior to testing.\n",
    "* Specify the vertices of the triangle by redefining `tri_point_list`\n",
    "* Specify the point you want to test by redefining `test_point`\n",
    "* When the cell is executed, it will plot your triangle.  The point will be a green dot if it lies within the triangle and red x otherwise."
   ],
   "id": "d610af6faa9126c1"
  },
  {
   "metadata": {
    "ExecuteTime": {
     "end_time": "2025-02-22T00:55:37.919080Z",
     "start_time": "2025-02-22T00:55:37.827650Z"
    }
   },
   "cell_type": "code",
   "source": [
    "%matplotlib inline\n",
    "from matplotlib.patches import Polygon\n",
    "import matplotlib.pyplot as plt\n",
    "import numpy as np\n",
    "\n",
    "import barycentric\n",
    "\n",
    "# Replace point_list's definition with your own\n",
    "tri_point_list = [\n",
    "    (2, 1),\n",
    "    (0, 3),\n",
    "    (1, 0)\n",
    "]\n",
    "\n",
    "# Replace test_point's definition with your own\n",
    "test_point = (1.5, 1)\n",
    "\n",
    "# You don't need to change anything below this line\n",
    "point_matrix = np.vstack([tri_point_list[0],\n",
    "                          tri_point_list[1],\n",
    "                          tri_point_list[2]]).transpose()\n",
    "\n",
    "triangle = Polygon(\n",
    "    tri_point_list,\n",
    ")\n",
    "\n",
    "fig, ax = plt.subplots()\n",
    "ax.add_patch(triangle)\n",
    "\n",
    "x_vals, y_vals = zip(*tri_point_list)\n",
    "\n",
    "if barycentric.is_inside_triangle(point_matrix, test_point):\n",
    "    style = \"go\"\n",
    "else:\n",
    "    style = \"rx\"\n",
    "\n",
    "ax.plot(x_vals, y_vals, \"bo\")\n",
    "ax.plot([test_point[0]], [test_point[1]], style)\n",
    "\n",
    "tri_point_list.append(tri_point_list[0])\n"
   ],
   "id": "58f7cd2d98c7b4e",
   "outputs": [
    {
     "data": {
      "text/plain": [
       "<Figure size 640x480 with 1 Axes>"
      ],
      "image/png": "[encoded data removed]"
     },
     "metadata": {},
     "output_type": "display_data"
    }
   ],
   "execution_count": 7
  }
 ],
 "metadata": {
  "kernelspec": {
   "display_name": "Python 3 (ipykernel)",
   "language": "python",
   "name": "python3"
  },
  "language_info": {
   "codemirror_mode": {
    "name": "ipython",
    "version": 3
   },
   "file_extension": ".py",
   "mimetype": "text/x-python",
   "name": "python",
   "nbconvert_exporter": "python",
   "pygments_lexer": "ipython3",
   "version": "3.12.3"
  }
 },
 "nbformat": 4,
 "nbformat_minor": 5
}
